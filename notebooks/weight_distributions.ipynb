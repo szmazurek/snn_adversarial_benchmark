{
 "cells": [
  {
   "cell_type": "code",
   "execution_count": 21,
   "metadata": {},
   "outputs": [
    {
     "name": "stderr",
     "output_type": "stream",
     "text": [
      "/tmp/ipykernel_487160/1618141200.py:12: FutureWarning: You are using `torch.load` with `weights_only=False` (the current default value), which uses the default pickle module implicitly. It is possible to construct malicious pickle data which will execute arbitrary code during unpickling (See https://github.com/pytorch/pytorch/blob/main/SECURITY.md#untrusted-models for more details). In a future release, the default value for `weights_only` will be flipped to `True`. This limits the functions that could be executed during unpickling. Arbitrary objects will no longer be allowed to be loaded via this mode unless they are explicitly allowlisted by the user via `torch.serialization.add_safe_globals`. We recommend you start setting `weights_only=True` for any use case where you don't have full control of the loaded file. Please open an issue on GitHub for any issues related to this experimental feature.\n",
      "  model.load_state_dict(torch.load(\"checkpoints/best_model_no_reg.pth\"))\n"
     ]
    }
   ],
   "source": [
    "import json\n",
    "import torch\n",
    "from models import SewResnet18\n",
    "from datasets import MNISTRepeated\n",
    "from spikingjelly.activation_based import functional, layer, neuron\n",
    "import matplotlib.pyplot as plt\n",
    "import numpy as np\n",
    "\n",
    "REPEATS = 10\n",
    "model = SewResnet18(n_channels=1)\n",
    "functional.set_step_mode(model, step_mode=\"m\")\n",
    "model.load_state_dict(torch.load(\"checkpoints/best_model_no_reg.pth\"))\n",
    "mnist_test_set = MNISTRepeated(\n",
    "    root=\"./data\", train=False, repeat=REPEATS, download=True\n",
    ")\n"
   ]
  },
  {
   "cell_type": "code",
   "execution_count": 3,
   "metadata": {},
   "outputs": [
    {
     "data": {
      "text/plain": [
       "<generator object Module.parameters at 0x7ad9cc7e0eb0>"
      ]
     },
     "execution_count": 3,
     "metadata": {},
     "output_type": "execute_result"
    }
   ],
   "source": [
    "model.parameters()"
   ]
  },
  {
   "cell_type": "code",
   "execution_count": 14,
   "metadata": {},
   "outputs": [
    {
     "data": {
      "image/png": "[encoded data removed]",
      "text/plain": [
       "<Figure size 1000x600 with 1 Axes>"
      ]
     },
     "metadata": {},
     "output_type": "display_data"
    }
   ],
   "source": [
    "import torch\n",
    "import matplotlib.pyplot as plt\n",
    "\n",
    "def extract_and_analyze_weights(model):\n",
    "    \"\"\"\n",
    "    Extracts all weights from a PyTorch model and provides basic analysis\n",
    "    including printing shapes and plotting histograms.\n",
    "\n",
    "    Args:\n",
    "        model (torch.nn.Module): The PyTorch model.\n",
    "    \"\"\"\n",
    "    all_weights = []\n",
    "    for name, param in model.named_parameters():\n",
    "        if param.requires_grad:  # Consider only trainable parameters (weights and biases)\n",
    "            all_weights.extend(torch.abs(param.detach().cpu()).numpy().flatten())\n",
    "\n",
    "    if all_weights:\n",
    "        plt.figure(figsize=(10, 6))\n",
    "        plt.hist(all_weights, bins=50, color='skyblue', edgecolor='black')\n",
    "        plt.title('Distribution of Weights in the Model')\n",
    "        plt.xlabel('Weight Value')\n",
    "        plt.ylabel('Frequency')\n",
    "        plt.grid(True, alpha=0.5)\n",
    "        plt.show()\n",
    "    else:\n",
    "        print(\"No trainable parameters found in the model.\")\n",
    "\n",
    "\n",
    "extract_and_analyze_weights(model)\n",
    "\n"
   ]
  },
  {
   "cell_type": "code",
   "execution_count": 22,
   "metadata": {},
   "outputs": [
    {
     "name": "stdout",
     "output_type": "stream",
     "text": [
      "Warning: Preceding layer BatchNorm2d for sn1 has weights in an unexpected format.\n",
      "Warning: Preceding layer BatchNorm2d for layer1.0.sn1 has weights in an unexpected format.\n",
      "Warning: Preceding layer BatchNorm2d for layer1.0.sn2 has weights in an unexpected format.\n",
      "Warning: Preceding layer BatchNorm2d for layer1.1.sn1 has weights in an unexpected format.\n",
      "Warning: Preceding layer BatchNorm2d for layer1.1.sn2 has weights in an unexpected format.\n",
      "Warning: Preceding layer BatchNorm2d for layer2.0.sn1 has weights in an unexpected format.\n",
      "Warning: Preceding layer BatchNorm2d for layer2.0.sn2 has weights in an unexpected format.\n",
      "Warning: Preceding layer Sequential for layer2.0.downsample_sn has weights in an unexpected format.\n",
      "Warning: Preceding layer BatchNorm2d for layer2.1.sn1 has weights in an unexpected format.\n",
      "Warning: Preceding layer BatchNorm2d for layer2.1.sn2 has weights in an unexpected format.\n",
      "Warning: Preceding layer BatchNorm2d for layer3.0.sn1 has weights in an unexpected format.\n",
      "Warning: Preceding layer BatchNorm2d for layer3.0.sn2 has weights in an unexpected format.\n",
      "Warning: Preceding layer Sequential for layer3.0.downsample_sn has weights in an unexpected format.\n",
      "Warning: Preceding layer BatchNorm2d for layer3.1.sn1 has weights in an unexpected format.\n",
      "Warning: Preceding layer BatchNorm2d for layer3.1.sn2 has weights in an unexpected format.\n",
      "Warning: Preceding layer BatchNorm2d for layer4.0.sn1 has weights in an unexpected format.\n",
      "Warning: Preceding layer BatchNorm2d for layer4.0.sn2 has weights in an unexpected format.\n",
      "Warning: Preceding layer Sequential for layer4.0.downsample_sn has weights in an unexpected format.\n",
      "Warning: Preceding layer BatchNorm2d for layer4.1.sn1 has weights in an unexpected format.\n",
      "Warning: Preceding layer BatchNorm2d for layer4.1.sn2 has weights in an unexpected format.\n",
      "No layers of type LIFNode found in the model.\n"
     ]
    }
   ],
   "source": [
    "def analyze_neuron_input_connections(model, neuron_class):\n",
    "    \"\"\"\n",
    "    Analyzes the weights of the layers directly preceding neurons of the specified class.\n",
    "    This aims to identify if neurons receive predominantly positive or negative input.\n",
    "\n",
    "    Args:\n",
    "        model (torch.nn.Module): The PyTorch model.\n",
    "        neuron_class (type): The class type of the neuron layer (e.g., your LIFNode class).\n",
    "    \"\"\"\n",
    "    neuron_input_sign = {}\n",
    "\n",
    "    for name, module in model.named_modules():\n",
    "        if isinstance(module, neuron_class):\n",
    "            preceding_layer = None\n",
    "            parent_name = name.rsplit('.', 1)[0] if '.' in name else ''\n",
    "            parent_module = model.get_submodule(parent_name) if parent_name else model\n",
    "\n",
    "            # Try to find the layer that produces the output for this neuron layer\n",
    "            for n, m in parent_module.named_children():\n",
    "                if m is module:\n",
    "                    break # Found the current neuron layer\n",
    "                preceding_layer = m\n",
    "\n",
    "            if preceding_layer is not None:\n",
    "                weight = None\n",
    "                if isinstance(preceding_layer, layer.Conv2d):\n",
    "                    weight = preceding_layer.weight.detach().cpu().numpy()\n",
    "                    # Convolutional weights have shape (out_channels, in_channels, kernel_h, kernel_w)\n",
    "                    # The 'out_channels' corresponds to the number of neurons in the *next* layer (the LIFNode layer).\n",
    "                    num_neurons = weight.shape[0]\n",
    "                    for i in range(num_neurons):\n",
    "                        neuron_weights = weight[i].flatten()\n",
    "                        positive_count = np.sum(neuron_weights > 0)\n",
    "                        negative_count = np.sum(neuron_weights < 0)\n",
    "                        total_weights = neuron_weights.size\n",
    "                        if total_weights > 0:\n",
    "                            if positive_count > negative_count and negative_count == 0:\n",
    "                                neuron_input_sign[f\"{name}.neuron_{i}\"] = \"Receives Excitatory Input\"\n",
    "                            elif negative_count > positive_count and positive_count == 0:\n",
    "                                neuron_input_sign[f\"{name}.neuron_{i}\"] = \"Receives Inhibitory Input\"\n",
    "                            else:\n",
    "                                neuron_input_sign[f\"{name}.neuron_{i}\"] = \"Receives Mixed Input\"\n",
    "                        else:\n",
    "                            neuron_input_sign[f\"{name}.neuron_{i}\"] = \"No input weights found\"\n",
    "                elif isinstance(preceding_layer, layer.Linear):\n",
    "                    weight = preceding_layer.weight.detach().cpu().numpy().T # Transpose for (in_features, out_features)\n",
    "                    num_neurons = weight.shape[1] # out_features is the number of neurons in the LIFNode\n",
    "                    for i in range(num_neurons):\n",
    "                        neuron_weights = weight[:, i].flatten()\n",
    "                        positive_count = np.sum(neuron_weights > 0)\n",
    "                        negative_count = np.sum(neuron_weights < 0)\n",
    "                        total_weights = neuron_weights.size\n",
    "                        if total_weights > 0:\n",
    "                            if positive_count > negative_count and negative_count == 0:\n",
    "                                neuron_input_sign[f\"{name}.neuron_{i}\"] = \"Receives Excitatory Input\"\n",
    "                            elif negative_count > positive_count and positive_count == 0:\n",
    "                                neuron_input_sign[f\"{name}.neuron_{i}\"] = \"Receives Inhibitory Input\"\n",
    "                            else:\n",
    "                                neuron_input_sign[f\"{name}.neuron_{i}\"] = \"Receives Mixed Input\"\n",
    "                        else:\n",
    "                            neuron_input_sign[f\"{name}.neuron_{i}\"] = \"No input weights found\"\n",
    "                elif preceding_layer is None:\n",
    "                    print(f\"Warning: Could not find preceding layer for {name}\")\n",
    "                else:\n",
    "                    print(f\"Warning: Preceding layer {preceding_layer.__class__.__name__} for {name} has weights in an unexpected format.\")\n",
    "\n",
    "    if neuron_input_sign:\n",
    "        excitatory_neurons = sum(1 for status in neuron_input_sign.values() if \"Excitatory\" in status)\n",
    "        inhibitory_neurons = sum(1 for status in neuron_input_sign.values() if \"Inhibitory\" in status)\n",
    "        mixed_neurons = sum(1 for status in neuron_input_sign.values() if \"Mixed\" in status)\n",
    "        total_neurons = len(neuron_input_sign)\n",
    "\n",
    "        print(f\"\\nAnalysis of Input Connections to {neuron_class.__name__} Neurons:\")\n",
    "        for neuron, status in neuron_input_sign.items():\n",
    "            print(f\"Neuron {neuron}: {status}\")\n",
    "\n",
    "        print(f\"\\nTotal {neuron_class.__name__} Neurons Analyzed: {total_neurons}\")\n",
    "        print(f\"  Receiving Predominantly Excitatory Input: {excitatory_neurons} ({excitatory_neurons / total_neurons * 100:.2f}%)\")\n",
    "        print(f\"  Receiving Predominantly Inhibitory Input: {inhibitory_neurons} ({inhibitory_neurons / total_neurons * 100:.2f}%)\")\n",
    "        print(f\"  Receiving Mixed Input: {mixed_neurons} ({mixed_neurons / total_neurons * 100:.2f}%)\")\n",
    "\n",
    "        # Optional: Visualize the distribution\n",
    "        labels = 'Excitatory Input', 'Inhibitory Input', 'Mixed Input'\n",
    "        sizes = [excitatory_neurons, inhibitory_neurons, mixed_neurons]\n",
    "        plt.figure(figsize=(8, 8))\n",
    "        plt.pie(sizes, labels=labels, autopct='%1.1f%%', startangle=140)\n",
    "        plt.title(f'Distribution of Input Connection Types to {neuron_class.__name__} Neurons')\n",
    "        plt.axis('equal')\n",
    "        plt.show()\n",
    "\n",
    "    else:\n",
    "        print(f\"No layers of type {neuron_class.__name__} found in the model.\")\n",
    "\n",
    "analyze_neuron_input_connections(model, neuron.LIFNode)"
   ]
  },
  {
   "cell_type": "code",
   "execution_count": null,
   "metadata": {},
   "outputs": [],
   "source": []
  }
 ],
 "metadata": {
  "kernelspec": {
   "display_name": "Python 3",
   "language": "python",
   "name": "python3"
  },
  "language_info": {
   "codemirror_mode": {
    "name": "ipython",
    "version": 3
   },
   "file_extension": ".py",
   "mimetype": "text/x-python",
   "name": "python",
   "nbconvert_exporter": "python",
   "pygments_lexer": "ipython3",
   "version": "3.10.0"
  }
 },
 "nbformat": 4,
 "nbformat_minor": 2
}
